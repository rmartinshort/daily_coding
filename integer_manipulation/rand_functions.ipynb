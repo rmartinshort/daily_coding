{
 "cells": [
  {
   "cell_type": "markdown",
   "metadata": {},
   "source": [
    "### A pair of related problems:\n",
    "\n",
    "1. Given a function rand5() that generates a random integer between 1 and 5 with uniform distribution, use it to write a rand7() function.   \n",
    "2. Vice versa: Given rand7(), write rand5()\n",
    "\n",
    "Lets do 2 first. There are probably several ways of doing this. Immediate thought is to for each nummber, call rand7() 5 times and then integer divide by 5."
   ]
  },
  {
   "cell_type": "code",
   "execution_count": 13,
   "metadata": {},
   "outputs": [],
   "source": [
    "import numpy as np\n",
    "import matplotlib.pyplot as plt"
   ]
  },
  {
   "cell_type": "code",
   "execution_count": 14,
   "metadata": {},
   "outputs": [],
   "source": [
    "def rand7_given():\n",
    "    return np.random.randint(low=1,high=8)"
   ]
  },
  {
   "cell_type": "code",
   "execution_count": 63,
   "metadata": {},
   "outputs": [],
   "source": [
    "def rand5():\n",
    "    \"\"\"rejection sampling - easy\"\"\"\n",
    "    \n",
    "    while True:\n",
    "        candidate = rand7_given()\n",
    "        if candidate <=5:\n",
    "            return candidate\n",
    "        \n",
    "def rand5():\n",
    "    \"\"\"rejection sampling - attempt to speed up using pattern\"\"\"\n",
    "    \n",
    "    while True:\n",
    "    \n",
    "        c1 = rand7_given()\n",
    "        c2 = rand7_given()\n",
    "    \n",
    "        #Generate numbers from 1 to 49 like this, due to rejection sampling\n",
    "        #Recall this rule - row * (col-1)*n will generate random numbers from 1 to max(c1)*max(c2)\n",
    "        idx = c1 + (c2 - 1)*7\n",
    "        \n",
    "        if idx <= 45:\n",
    "            return 1 + (idx - 1) % 5\n",
    "        \n",
    "        c1 = idx - 45\n",
    "        c2 = rand7_given()\n",
    "            \n",
    "        #Generate numbers from 1 to (4*7) = 28 like this, due to rejection sampling\n",
    "        idx = c1 + (c2 - 1)*7\n",
    "        if idx <= 25:\n",
    "            return 1 + (idx - 1)%5\n",
    "        \n",
    "        c1 = idx - 25\n",
    "        c2 = rand7_given()\n",
    "        \n",
    "        #Generate numbers from 1 to (3*7) = 21 like this, due to rejection sampling\n",
    "        idx = c1 + (c2 - 1)*7\n",
    "        \n",
    "        if idx <= 20:\n",
    "            return 1 + (idx - 1)%5\n",
    "        \n",
    "        #We have 21 in this case, which is rare\n",
    "        \n",
    "            \n",
    "def test_dist(func_in,n_tests,bins=5):\n",
    "    \n",
    "    op = []\n",
    "    for i in range(n_tests):\n",
    "        op.append(func_in())\n",
    "    \n",
    "    plt.hist(op,bins=bins)"
   ]
  },
  {
   "cell_type": "code",
   "execution_count": 48,
   "metadata": {},
   "outputs": [
    {
     "data": {
      "image/png": "[encoded data removed]",
      "text/plain": [
       "<Figure size 432x288 with 1 Axes>"
      ]
     },
     "metadata": {
      "needs_background": "light"
     },
     "output_type": "display_data"
    }
   ],
   "source": [
    "test_dist(rand5,10000,bins=5)"
   ]
  },
  {
   "cell_type": "markdown",
   "metadata": {},
   "source": [
    "Lets now do rand7() using rand5(). This will be the same sort of concept, only this time the obvious solutioin using simple rejection sampling won't work because we need to generate more than 5 numbers originally"
   ]
  },
  {
   "cell_type": "code",
   "execution_count": 86,
   "metadata": {},
   "outputs": [],
   "source": [
    "def rand5_given():\n",
    "    return np.random.randint(low=1,high=6)\n",
    "\n",
    "\n",
    "def rand7():\n",
    "    \n",
    "    while True:\n",
    "        c1 = rand5_given()\n",
    "        c2 = rand5_given()\n",
    "    \n",
    "        #This will give us all numbers from 1 to 25\n",
    "        #we know that 21 is the nearest multiple of 7, so if idx <=21, we can \n",
    "        #compute the closest multiple of 7 and get a uniform distribution\n",
    "        idx = c1 + (c2 - 1)*5\n",
    "    \n",
    "        if idx <= 21:\n",
    "            #Why this? because the remainder of a multiple of 7-1 will be at most 6 and at least 0,\n",
    "            #so we need to add these on\n",
    "            return 1 + (idx-1)%7\n",
    "                "
   ]
  },
  {
   "cell_type": "markdown",
   "metadata": {},
   "source": [
    "It may be possible to use the generated numbers from 22-25 to reduce the number of times this has to reject and re-evaluate itself"
   ]
  },
  {
   "cell_type": "code",
   "execution_count": 85,
   "metadata": {},
   "outputs": [
    {
     "name": "stdout",
     "output_type": "stream",
     "text": [
      "CPU times: user 17.1 s, sys: 37.1 ms, total: 17.1 s\n",
      "Wall time: 17.2 s\n"
     ]
    },
    {
     "data": {
      "image/png": "[encoded data removed]",
      "text/plain": [
       "<Figure size 432x288 with 1 Axes>"
      ]
     },
     "metadata": {
      "needs_background": "light"
     },
     "output_type": "display_data"
    }
   ],
   "source": [
    "%%time\n",
    "test_dist(rand7,1000000,bins=7)"
   ]
  },
  {
   "cell_type": "code",
   "execution_count": null,
   "metadata": {},
   "outputs": [],
   "source": []
  }
 ],
 "metadata": {
  "kernelspec": {
   "display_name": "Python 3",
   "language": "python",
   "name": "python3"
  },
  "language_info": {
   "codemirror_mode": {
    "name": "ipython",
    "version": 3
   },
   "file_extension": ".py",
   "mimetype": "text/x-python",
   "name": "python",
   "nbconvert_exporter": "python",
   "pygments_lexer": "ipython3",
   "version": "3.6.7"
  }
 },
 "nbformat": 4,
 "nbformat_minor": 4
}
