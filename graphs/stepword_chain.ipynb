{
 "cells": [
  {
   "cell_type": "markdown",
   "metadata": {},
   "source": [
    "Here is a graph/NLP type problem:\n",
    "\n",
    "Given a start word, an end word and a dictionary of valid words, return the shortest transformation sequence from start to end euch that only one letter is chanes in each step of the transformation sequence and each transformed word exists in the dictionary. Each word in the dictionary ha the same length and they are all lowercase"
   ]
  },
  {
   "cell_type": "code",
   "execution_count": 1,
   "metadata": {},
   "outputs": [],
   "source": [
    "from collections import deque\n",
    "from string import ascii_lowercase\n",
    "\n",
    "def word_ladder(start,end,words):\n",
    "    \n",
    "    queue = deque([(start,[start])])\n",
    "    \n",
    "    while queue:\n",
    "        #remove the first element in the \n",
    "        word,path = queue.popleft()\n",
    "        \n",
    "        if word == end:\n",
    "            return path\n",
    "        \n",
    "        for i in range(len(word)):\n",
    "            for char in ascii_lowercase:\n",
    "                #loop through all possible chars and append inside word\n",
    "                next_word = word[:i] + char + word[i+1:]\n",
    "                #Add the word we've found to the queue. See that the path is going to grow and we will pop the path associated with the end word\n",
    "                if next_word in words:\n",
    "                    #remove the word that we've matched on \n",
    "                    #note that path is going to grow \n",
    "                    words.remove(next_word)\n",
    "                    queue.append([next_word,path+[next_word]])\n",
    "    \n",
    "    return None"
   ]
  },
  {
   "cell_type": "code",
   "execution_count": 2,
   "metadata": {},
   "outputs": [
    {
     "data": {
      "text/plain": [
       "['dog', 'dot', 'dat', 'cat']"
      ]
     },
     "execution_count": 2,
     "metadata": {},
     "output_type": "execute_result"
    }
   ],
   "source": [
    "d = {\"dot\",\"dop\",\"dat\",\"cat\"}\n",
    "word_ladder(\"dog\",\"cat\",d)"
   ]
  },
  {
   "cell_type": "code",
   "execution_count": null,
   "metadata": {},
   "outputs": [],
   "source": []
  }
 ],
 "metadata": {
  "kernelspec": {
   "display_name": "Python 3",
   "language": "python",
   "name": "python3"
  },
  "language_info": {
   "codemirror_mode": {
    "name": "ipython",
    "version": 3
   },
   "file_extension": ".py",
   "mimetype": "text/x-python",
   "name": "python",
   "nbconvert_exporter": "python",
   "pygments_lexer": "ipython3",
   "version": "3.7.3"
  }
 },
 "nbformat": 4,
 "nbformat_minor": 4
}
