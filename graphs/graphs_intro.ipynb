{
 "cells": [
  {
   "cell_type": "markdown",
   "metadata": {},
   "source": [
    "### Basics of graphs\n",
    "\n",
    "A graph can be represented in two main ways: ajacency lists and adjacency matrices. \n",
    "\n",
    "An adjacency list is essentially a dictionary mapping each vertex to the other vertices between which there is an edge. \n",
    "\n",
    "For an adjacency matrix, each vertex is associated with a row and column of an NxN matrix, thus matrix[i][j] will be 1 if there is an edge from i to j, else 0.  \n",
    "\n",
    "There are two main ways of traversing a graph:\n",
    "\n",
    "- DFS, or Depth First Search. This relies on recursive calls where we proceed down the neighbors as far as possible"
   ]
  },
  {
   "cell_type": "code",
   "execution_count": 1,
   "metadata": {},
   "outputs": [],
   "source": [
    "def DFS(graph,start,visited=[]):\n",
    "    \n",
    "    visited.add(start)\n",
    "    \n",
    "    #Go through all its neighbors\n",
    "    for neighbor in graph[start]:\n",
    "        if neighbor not in visited:\n",
    "            #Go through all the neighbors. This basicially gets to the most distant node as fast as possible\n",
    "            DFS(graph,neighbor,visited)\n",
    "    \n",
    "    return visited"
   ]
  },
  {
   "cell_type": "markdown",
   "metadata": {},
   "source": [
    "- BFS, or Breadth first search. This relies on a queue. For each item we pop off the queue, we find its unvisited neighbors and add them to the end of the visited list"
   ]
  },
  {
   "cell_type": "code",
   "execution_count": null,
   "metadata": {},
   "outputs": [],
   "source": [
    "from collections import deque\n",
    "\n",
    "def BFS(graph,start,visited=[]):\n",
    "    \n",
    "    queue = deque([start])\n",
    "    \n",
    "    while queue:\n",
    "        popped_node = queue.popleft()\n",
    "        visited.add(popped_node)\n",
    "        #Loop through the neighbors and put them in the queue if they haven't been visited yet\n",
    "        for neighbor in popped_node.neihgbors:\n",
    "            if neighbor not in visited:\n",
    "                queue.append(neighbor)\n",
    "    \n",
    "    return visited\n",
    "        "
   ]
  },
  {
   "cell_type": "markdown",
   "metadata": {},
   "source": [
    "Here's a problem that uses DFS: For a given graph, detect if it has a cycle.\n",
    "\n",
    "To do this, we'll do a DFS for all vertices and check of any of their neighbors have already been visited. If they have, that suggests that the graph has a cycle.\n",
    "\n",
    "We can start with a search function. This assumes that graph is a dictionary which can be used to indicated of a vertex has or has not been visited"
   ]
  },
  {
   "cell_type": "code",
   "execution_count": 2,
   "metadata": {},
   "outputs": [],
   "source": [
    "def search(graph,vertex,visited,parent):\n",
    "    \n",
    "    visited[vertex] = True\n",
    "    for neighbor in graph[vertex]:\n",
    "        if not visited[neighbor]:\n",
    "            if search(graph,neighbor,visited,vertex):\n",
    "                return True\n",
    "        #If there is a cycle where a vertex points back towards itself\n",
    "        elif parent == neighbor:\n",
    "            return True\n",
    "    \n",
    "    return False"
   ]
  },
  {
   "cell_type": "code",
   "execution_count": 3,
   "metadata": {},
   "outputs": [],
   "source": [
    "def has_cycle(graph):\n",
    "    \n",
    "    visited = {k:False for k in graph.keys()}\n",
    "    \n",
    "    #Loop through all the vertices\n",
    "    for vertex in graph.keys():\n",
    "        #If we have not been to a vertex, do a DFS to see if none of the other vertices\n",
    "        #that we have collected are visitable as neighbors. If they are, the graph has a loop in it\n",
    "        if not visited[vertex]:\n",
    "            if search(graph,vertex,visited,None):\n",
    "                return True\n",
    "    return False "
   ]
  },
  {
   "cell_type": "code",
   "execution_count": null,
   "metadata": {},
   "outputs": [],
   "source": []
  }
 ],
 "metadata": {
  "kernelspec": {
   "display_name": "Python 3",
   "language": "python",
   "name": "python3"
  },
  "language_info": {
   "codemirror_mode": {
    "name": "ipython",
    "version": 3
   },
   "file_extension": ".py",
   "mimetype": "text/x-python",
   "name": "python",
   "nbconvert_exporter": "python",
   "pygments_lexer": "ipython3",
   "version": "3.6.9"
  }
 },
 "nbformat": 4,
 "nbformat_minor": 4
}
