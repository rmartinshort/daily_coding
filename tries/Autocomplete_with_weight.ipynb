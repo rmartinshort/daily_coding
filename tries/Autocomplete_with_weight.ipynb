{
 "cells": [
  {
   "cell_type": "markdown",
   "metadata": {},
   "source": [
    "### An efficient autocomplete solution that allows us to add weights to each inserted word\n",
    "\n",
    "This will follow a trie structure. The idea is that each character is a node that maps to a dicitonary of only the subsequent characters in the inserted words. Each node also has attribute endtoken, telling us to stop since we've found the end of a word and also has a weight parameter"
   ]
  },
  {
   "cell_type": "code",
   "execution_count": 1,
   "metadata": {},
   "outputs": [],
   "source": [
    "class TrieNode(object):\n",
    "    def __init__(self):\n",
    "        \n",
    "        self.children = {}\n",
    "        self.endtoken = False\n",
    "        self.weight = None\n",
    "\n",
    "class Trie(object):\n",
    "    def __init__(self):\n",
    "        self.trie = TrieNode()\n",
    "        \n",
    "    def insert(self,word,w):\n",
    "        \n",
    "        c_node = self.trie\n",
    "        for char in word:\n",
    "            if char not in c_node.children:\n",
    "                c_node.children[char] = TrieNode()\n",
    "            c_node = c_node.children[char]\n",
    "        \n",
    "        c_node.endtoken = True\n",
    "        c_node.weight = w\n",
    "            \n",
    "        \n",
    "    def find(self,prefix):\n",
    "        \n",
    "        #First, iterate as far as we can go in the prefix. Then, we need to \n",
    "        #recurse though all the possible suffixes and surface them\n",
    "        c_node = self.trie\n",
    "        for char in prefix:\n",
    "            if char in c_node.children:\n",
    "                c_node = c_node.children[char]\n",
    "            else:\n",
    "                return []\n",
    "        \n",
    "        return self._generate_suggestions(c_node)\n",
    "        \n",
    "    def _generate_suggestions(self,node):\n",
    "        \n",
    "        result = []\n",
    "\n",
    "        for char, suffix_node in node.children.items():\n",
    "            \n",
    "            #End condition for the recursion. Its easy just to add the weight as a string so\n",
    "            #we don't have to specify a special case\n",
    "            if suffix_node.endtoken == True:\n",
    "                subresult = [char+\"#%s\"%suffix_node.weight]\n",
    "            #Otherwise, add chars to the recursion\n",
    "            else:\n",
    "                s = self._generate_suggestions(suffix_node)\n",
    "                subresult = [char + s for s in self._generate_suggestions(suffix_node)]\n",
    "            \n",
    "            result.extend(subresult)\n",
    "        \n",
    "        return result"
   ]
  },
  {
   "cell_type": "code",
   "execution_count": 2,
   "metadata": {},
   "outputs": [],
   "source": [
    "autocomplete_trie = Trie()"
   ]
  },
  {
   "cell_type": "code",
   "execution_count": 3,
   "metadata": {},
   "outputs": [],
   "source": [
    "words = [\"rainbow\",\"rainforest\",\"raincatcher\",\"ratty\",\"realistic\",\"really\",\"rank\"]"
   ]
  },
  {
   "cell_type": "code",
   "execution_count": 4,
   "metadata": {},
   "outputs": [],
   "source": [
    "for w in words:\n",
    "    autocomplete_trie.insert(w,len(w))"
   ]
  },
  {
   "cell_type": "code",
   "execution_count": 5,
   "metadata": {},
   "outputs": [],
   "source": [
    "def autocomplete(prefix):\n",
    "        \n",
    "    autocomplete_strings = [prefix + x for x in autocomplete_trie.find(prefix)]\n",
    "    autocomplete_dict = {k.split(\"#\")[0]:float(k.split(\"#\")[1]) for k in autocomplete_strings}\n",
    "    \n",
    "    return autocomplete_dict"
   ]
  },
  {
   "cell_type": "code",
   "execution_count": 6,
   "metadata": {},
   "outputs": [
    {
     "data": {
      "text/plain": [
       "{'rainbow': 7.0, 'rainforest': 10.0, 'raincatcher': 11.0}"
      ]
     },
     "execution_count": 6,
     "metadata": {},
     "output_type": "execute_result"
    }
   ],
   "source": [
    "autocomplete(\"rai\")"
   ]
  },
  {
   "cell_type": "code",
   "execution_count": null,
   "metadata": {},
   "outputs": [],
   "source": []
  }
 ],
 "metadata": {
  "kernelspec": {
   "display_name": "Python 3",
   "language": "python",
   "name": "python3"
  },
  "language_info": {
   "codemirror_mode": {
    "name": "ipython",
    "version": 3
   },
   "file_extension": ".py",
   "mimetype": "text/x-python",
   "name": "python",
   "nbconvert_exporter": "python",
   "pygments_lexer": "ipython3",
   "version": "3.6.7"
  }
 },
 "nbformat": 4,
 "nbformat_minor": 4
}
