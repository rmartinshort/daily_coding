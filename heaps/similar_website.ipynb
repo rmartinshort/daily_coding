{
 "cells": [
  {
   "cell_type": "markdown",
   "metadata": {},
   "source": [
    "### Problem: Use a heap to generate a list of the top n websites by usage similarity\n",
    "\n",
    "To do this we'll use the Jacard index to set the similarity and we'll use a min heap to keep track of the top valued pairs by simialrity. We'll pop the smallest values and push larger ones of they are available. Note that we have to generate a blank heap first that sets the size that we want to report, then call pushpop to handle the ordering"
   ]
  },
  {
   "cell_type": "code",
   "execution_count": 6,
   "metadata": {},
   "outputs": [],
   "source": [
    "import heapq\n",
    "from collections import defaultdict\n",
    "\n",
    "def similarity(a,b,visitors):\n",
    "\n",
    "  ## Similariy score or Jaccard index = number in common/number independent\n",
    "  return len(visitors[a] & visitors[b])/len(visitors[a] | visitors[b])\n",
    "\n",
    "def top_pairs(log,k):\n",
    "\n",
    "  visitors = defaultdict(set)\n",
    "  for site, user in log:\n",
    "    visitors[site].add(user)\n",
    "\n",
    "  #pairs will be arranged in the format of a heap\n",
    "  pairs = []\n",
    "  sites = list(visitors.keys())\n",
    "\n",
    "  #Get the heap ready. See that each element will contain a value and a tuple of strings\n",
    "  #Note that the pairs list will be heapified here\n",
    "  for _ in range(k):\n",
    "    heapq.heappush(pairs,(0,('','')))\n",
    "  \n",
    "  for i in range(len(sites)-1):\n",
    "    for j in range(i+1,len(sites)):\n",
    "      score = similarity(sites[i],sites[j],visitors)\n",
    "      #This pushes a new value to the heap and pops the smallest value so that \n",
    "      #we maintain a heap of only the largest. Note that heapq only supports min-heap\n",
    "      #see https://docs.python.org/3/library/heapq.html\n",
    "      heapq.heappushpop(pairs,(score,(sites[i],sites[j])))\n",
    "    \n",
    "  print(pairs)"
   ]
  },
  {
   "cell_type": "code",
   "execution_count": 7,
   "metadata": {},
   "outputs": [],
   "source": [
    "sites = [(\"google.com\",1),(\"google.com\",3),(\"google.com\",5),\n",
    " (\"pets.com\",1),(\"pets.com\",2),(\"yahoo.com\",6),\n",
    " (\"yahoo.com\",2),(\"yahoo.com\",3),(\"yahoo.com\",4),(\"yahoo.com\",5),\n",
    " (\"wikipedia.org\",4),(\"wikipedia.org\",5),(\"wikipedia.org\",6)]"
   ]
  },
  {
   "cell_type": "code",
   "execution_count": 10,
   "metadata": {},
   "outputs": [
    {
     "name": "stdout",
     "output_type": "stream",
     "text": [
      "[(0.25, ('google.com', 'pets.com')), (0.3333333333333333, ('google.com', 'yahoo.com')), (0.6, ('yahoo.com', 'wikipedia.org'))]\n"
     ]
    }
   ],
   "source": [
    "top_pairs(sites,k=3)"
   ]
  },
  {
   "cell_type": "code",
   "execution_count": null,
   "metadata": {},
   "outputs": [],
   "source": []
  }
 ],
 "metadata": {
  "kernelspec": {
   "display_name": "Python 3",
   "language": "python",
   "name": "python3"
  },
  "language_info": {
   "codemirror_mode": {
    "name": "ipython",
    "version": 3
   },
   "file_extension": ".py",
   "mimetype": "text/x-python",
   "name": "python",
   "nbconvert_exporter": "python",
   "pygments_lexer": "ipython3",
   "version": "3.6.7"
  }
 },
 "nbformat": 4,
 "nbformat_minor": 4
}
