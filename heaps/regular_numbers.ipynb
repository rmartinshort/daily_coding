{
 "cells": [
  {
   "cell_type": "markdown",
   "metadata": {},
   "source": [
    "### Problem: Use a heap to generate the first n regular numbers \n",
    "\n",
    "Note that a regualr number is one whose only prime divisors are 2, 3 and 5. If we want to generate an ordered list of the first n of them, we can iterate though values, multiply them by 2,3 and 5 and then push them to the heap, which will allow their ordder to be maintained"
   ]
  },
  {
   "cell_type": "code",
   "execution_count": 1,
   "metadata": {},
   "outputs": [],
   "source": [
    "import heapq\n",
    "\n",
    "def regular_numbers(n):\n",
    "    \n",
    "    solution = [1]\n",
    "    count = 0; last_value = 0\n",
    "    \n",
    "    while count < n:\n",
    "        #Get the smallest value from the heap\n",
    "        x = heapq.heappop(solution)\n",
    "        #If its greater than the previous value, then use it as a multipier \n",
    "        #Add the results to the heap as seen here.\n",
    "        if x > last_value:\n",
    "            yield x\n",
    "            last_value = x; count += 1\n",
    "            heapq.heappush(solution,x*2)\n",
    "            heapq.heappush(solution,x*3)\n",
    "            heapq.heappush(solution,x*5)\n",
    "        "
   ]
  },
  {
   "cell_type": "code",
   "execution_count": 2,
   "metadata": {},
   "outputs": [
    {
     "name": "stdout",
     "output_type": "stream",
     "text": [
      "1\n",
      "2\n",
      "3\n",
      "4\n",
      "5\n",
      "6\n",
      "8\n",
      "9\n",
      "10\n",
      "12\n",
      "15\n",
      "16\n",
      "18\n",
      "20\n",
      "24\n",
      "25\n",
      "27\n",
      "30\n",
      "32\n",
      "36\n"
     ]
    }
   ],
   "source": [
    "for i in regular_numbers(20):\n",
    "    print(i)"
   ]
  },
  {
   "cell_type": "code",
   "execution_count": null,
   "metadata": {},
   "outputs": [],
   "source": []
  }
 ],
 "metadata": {
  "kernelspec": {
   "display_name": "Python 3",
   "language": "python",
   "name": "python3"
  },
  "language_info": {
   "codemirror_mode": {
    "name": "ipython",
    "version": 3
   },
   "file_extension": ".py",
   "mimetype": "text/x-python",
   "name": "python",
   "nbconvert_exporter": "python",
   "pygments_lexer": "ipython3",
   "version": "3.6.7"
  }
 },
 "nbformat": 4,
 "nbformat_minor": 4
}
