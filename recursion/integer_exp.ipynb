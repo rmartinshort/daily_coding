{
 "cells": [
  {
   "cell_type": "markdown",
   "metadata": {},
   "source": [
    "### An efficient way to take an integer exponent\n",
    "\n",
    "This is based on the face that a^b = a^(b/2) * a^(b/2), so if we compute b/2 we can reuse it.  \n",
    "Note that it b is odd, we need a small modification since b/2 will not be an integer   \n",
    "\n",
    "a^b = a^((b-1)/2) * a^((b-1)/2) * a, since in this case (b-1) is an even number and so divisable by 2.  \n",
    "\n",
    "The solution is recursive.  "
   ]
  },
  {
   "cell_type": "code",
   "execution_count": 1,
   "metadata": {},
   "outputs": [],
   "source": [
    "def integer_exp(a,b):\n",
    "    \n",
    "    #The base cases - where we don't need to divide by anything\n",
    "    if b == 0:\n",
    "        return 1\n",
    "    elif b == 1:\n",
    "        return a\n",
    "    elif b == -1:\n",
    "        return 1/a\n",
    "    \n",
    "    #recursive cases\n",
    "    \n",
    "    if b%2 == 0:\n",
    "        return integer_exp(a,(b/2)) * integer_exp(a,(b/2))\n",
    "    else:\n",
    "        return integer_exp(a,(b-1)/2) * integer_exp(a,(b-1)/2) * a\n",
    "    "
   ]
  },
  {
   "cell_type": "code",
   "execution_count": 3,
   "metadata": {},
   "outputs": [
    {
     "data": {
      "text/plain": [
       "8"
      ]
     },
     "execution_count": 3,
     "metadata": {},
     "output_type": "execute_result"
    }
   ],
   "source": [
    "integer_exp(2,3)"
   ]
  },
  {
   "cell_type": "code",
   "execution_count": null,
   "metadata": {},
   "outputs": [],
   "source": []
  }
 ],
 "metadata": {
  "kernelspec": {
   "display_name": "Python 3",
   "language": "python",
   "name": "python3"
  },
  "language_info": {
   "codemirror_mode": {
    "name": "ipython",
    "version": 3
   },
   "file_extension": ".py",
   "mimetype": "text/x-python",
   "name": "python",
   "nbconvert_exporter": "python",
   "pygments_lexer": "ipython3",
   "version": "3.6.7"
  }
 },
 "nbformat": 4,
 "nbformat_minor": 4
}
